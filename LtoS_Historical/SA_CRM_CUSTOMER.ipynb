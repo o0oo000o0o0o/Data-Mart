{
 "cells": [
  {
   "cell_type": "code",
   "execution_count": 1,
   "metadata": {},
   "outputs": [],
   "source": [
    "import mysql.connector\n",
    "import psycopg2\n",
    "import pandas as pd\n",
    "import time\n",
    "from config import host, user, password\n",
    "from config2 import user1, password1"
   ]
  },
  {
   "cell_type": "code",
   "execution_count": 2,
   "metadata": {},
   "outputs": [],
   "source": [
    "start_time = time.time()"
   ]
  },
  {
   "cell_type": "code",
   "execution_count": 3,
   "metadata": {},
   "outputs": [
    {
     "name": "stdout",
     "output_type": "stream",
     "text": [
      "MySQL Connection Established\n",
      "PostgreSQL Connection Established\n",
      "PostgreSQL Connection Established\n"
     ]
    }
   ],
   "source": [
    "### Establishing MySQL and PostgreSQL Connections\n",
    "\n",
    "#MySQL Connection\n",
    "try:\n",
    "    mysql_db = mysql.connector.connect(host=host,user=user,password=password,db=\"eBooks2go\")\n",
    "    mycursor = mysql_db.cursor()\n",
    "    print(\"MySQL Connection Established\")\n",
    "except mysql.connector.Error as e:\n",
    "    print(\"Unable to Connect: \",format(e))\n",
    "\n",
    "#PostgreSQL Connection\n",
    "try:\n",
    "    pg_db = psycopg2.connect(host=host,user=user1,password=password1,database=\"staging\")\n",
    "    pg_db.autocommit = True\n",
    "    pgcursor = pg_db.cursor()\n",
    "    print(\"PostgreSQL Connection Established\")\n",
    "except psycopg2.OperationalError as e:\n",
    "    print(\"Unable to Connect: \",format(e))\n",
    "\n",
    "#PostgreSQL Connection\n",
    "try:\n",
    "    pg_db1 = psycopg2.connect(host=host,user=user1,password=password1,database=\"staging\")\n",
    "    pg_db1.autocommit = True\n",
    "    pgcursor1 = pg_db1.cursor()\n",
    "    print(\"PostgreSQL Connection Established\")\n",
    "except psycopg2.OperationalError as e:\n",
    "    print(\"Unable to Connect: \",format(e))"
   ]
  },
  {
   "cell_type": "code",
   "execution_count": null,
   "metadata": {},
   "outputs": [],
   "source": [
    "new_records_source = 0\n",
    "new_records_target = 0\n",
    "count_failed = 0\n",
    "\n",
    "#Selects data from table\n",
    "slt_cmd =\"Select * from eBooks2go.CRM_Customer\"\n",
    "mycursor.execute(slt_cmd)\n",
    "\n",
    "#Extracting column names \n",
    "col_names_lst = [i[0] for i in mycursor.description] \n",
    "col_names = ', '.join(col_names_lst)+', Created_Date'+', Updated_Date'\n",
    "#     print(col_names)\n",
    "\n",
    "#Inserting data from MySQL into PostgreSQL\n",
    "placeholders = ', '.join(['%s'] * (len(col_names_lst)+2) ) \n",
    "\n",
    "#Inserting data into PostgreSQL\n",
    "insrt_cmd = \"INSERT INTO stg_CRM_CUSTOMER(\"+col_names+\") \" \\\n",
    "            \"VALUES ( %s )\" % (placeholders)\n",
    "#     print(insrt_cmd)\n",
    "\n",
    "for row in mycursor:\n",
    "    try:\n",
    "        new_records_source = mycursor.rowcount\n",
    "        pgcursor.execute(insrt_cmd,row+tuple([time.strftime(\"%Y/%m/%d %H:%M\")])+tuple([time.strftime(\"%Y/%m/%d %H:%M\")]))\n",
    "        new_records_target += 1\n",
    "        \n",
    "    except Exception as e:\n",
    "        count_failed += 1  \n",
    "\n",
    "#Log_Audit\n",
    "mycursor.execute('SELECT count(customer_id) FROM eBooks2go.CRM_Customer')\n",
    "Total_Records_from_source = mycursor.fetchone()\n",
    "\n",
    "pgcursor.execute('SELECT count(customer_id) FROM stg_CRM_Customer')\n",
    "Total_Records_from_target = pgcursor.fetchone()\n",
    "\n",
    "insrt_log = \"INSERT INTO LOG_DIM (Phase, Source_Table_Name, Target_Table_Name, \\\n",
    "Total_Records_Source_Table, Total_Records_Target_Table, New_Records_Source, \\\n",
    "New_Records_Target,Status, Remarks, Execution_time) Values ('LtoS','eBooks2go.CRM_CUSTOMER',\\\n",
    "'stg_CRM_CUSTOMER',\" +str(Total_Records_from_source)+\",\"+str(Total_Records_from_target)+str(new_records_source)\\\n",
    "+\",\"+str(new_records_target)+\",'Completed','\" +str(count_failed)+\" Records Failed.Historical Data Update','\"\\\n",
    "+str(round(time.time() - start_time,2))+\" seconds')\"\n",
    "pgcursor.execute(insrt_log)\n",
    "\n",
    "mysql_db.close()\n",
    "pg_db.close()"
   ]
  }
 ],
 "metadata": {
  "kernelspec": {
   "display_name": "Python 3",
   "language": "python",
   "name": "python3"
  },
  "language_info": {
   "codemirror_mode": {
    "name": "ipython",
    "version": 3
   },
   "file_extension": ".py",
   "mimetype": "text/x-python",
   "name": "python",
   "nbconvert_exporter": "python",
   "pygments_lexer": "ipython3",
   "version": "3.6.10"
  }
 },
 "nbformat": 4,
 "nbformat_minor": 2
}
