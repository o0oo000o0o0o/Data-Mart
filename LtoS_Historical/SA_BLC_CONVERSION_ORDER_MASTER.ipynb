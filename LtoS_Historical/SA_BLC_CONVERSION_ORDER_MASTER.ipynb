{
 "cells": [
  {
   "cell_type": "code",
   "execution_count": 1,
   "metadata": {},
   "outputs": [],
   "source": [
    "import mysql.connector\n",
    "import psycopg2\n",
    "import pandas as pd\n",
    "import time\n",
    "from config import host, user, password\n",
    "from config2 import user1, password1"
   ]
  },
  {
   "cell_type": "code",
   "execution_count": 2,
   "metadata": {},
   "outputs": [],
   "source": [
    "start_time = time.time()"
   ]
  },
  {
   "cell_type": "code",
   "execution_count": 3,
   "metadata": {},
   "outputs": [
    {
     "name": "stdout",
     "output_type": "stream",
     "text": [
      "MySQL Connection Established\n",
      "PostgreSQL Connection Established\n"
     ]
    }
   ],
   "source": [
    "### Establishing MySQL and PostgreSQL Connections\n",
    "\n",
    "#MySQL Connection\n",
    "try:\n",
    "    mysql_db = mysql.connector.connect(host=host,user=user,password=password,db=\"eBooks2go\")\n",
    "    mycursor = mysql_db.cursor()\n",
    "    print(\"MySQL Connection Established\")\n",
    "except mysql.connector.Error as e:\n",
    "    print(\"Unable to Connect: \",format(e))\n",
    "\n",
    "#PostgreSQL Connection\n",
    "try:\n",
    "    pg_db = psycopg2.connect(host=host,user=user1,password=password1,database=\"staging\")\n",
    "    pg_db.autocommit = True\n",
    "    pgcursor = pg_db.cursor()\n",
    "    print(\"PostgreSQL Connection Established\")\n",
    "except psycopg2.OperationalError as e:\n",
    "    print(\"Unable to Connect: \",format(e))"
   ]
  },
  {
   "cell_type": "code",
   "execution_count": 6,
   "metadata": {},
   "outputs": [
    {
     "ename": "IndentationError",
     "evalue": "unexpected indent (<ipython-input-6-071fe760fa09>, line 34)",
     "output_type": "error",
     "traceback": [
      "\u001b[0;36m  File \u001b[0;32m\"<ipython-input-6-071fe760fa09>\"\u001b[0;36m, line \u001b[0;32m34\u001b[0m\n\u001b[0;31m    Total_Records_Target_Table, Status, Remarks, Execution_time) Values ('LtoS','eBooks2go.BLC_CONVERSION_ORDER_MASTER',\\\u001b[0m\n\u001b[0m    ^\u001b[0m\n\u001b[0;31mIndentationError\u001b[0m\u001b[0;31m:\u001b[0m unexpected indent\n"
     ]
    }
   ],
   "source": [
    "count_success = 0\n",
    "Total_Records_from_source = 0\n",
    "count_failed_emails = 0\n",
    "\n",
    "#Selects data from table\n",
    "slt_cmd =\"Select * from eBooks2go.BLC_CONVERSION_ORDER_MASTER where conversion_order_id < 15\"\n",
    "mycursor.execute(slt_cmd)\n",
    "\n",
    "#Extracting column names \n",
    "col_names_lst = [i[0] for i in mycursor.description] \n",
    "col_names = ', '.join(col_names_lst)+', Created_Date'+', Updated_Date'\n",
    "#     print(col_names)\n",
    "\n",
    "#Inserting data from MySQL into PostgreSQL\n",
    "placeholders = ', '.join(['%s'] * (len(col_names_lst)+2) ) \n",
    "\n",
    "#Inserting data into PostgreSQL\n",
    "insrt_cmd = \"INSERT INTO stg_CONVERSION_ORDER_MASTER(\"+col_names+\") VALUES ( %s )\" % (placeholders)\n",
    "#     print(insrt_cmd)\n",
    "\n",
    "for row in mycursor:\n",
    "    try:\n",
    "        Total_Records_from_source = mycursor.rowcount\n",
    "#         pgcursor.execute(insrt_cmd,row+tuple([time.strftime(\"%Y/%m/%d %H:%M\")])+tuple([time.strftime(\"%Y/%m/%d %H:%M\")]))\n",
    "        count_success += 1\n",
    "    \n",
    "    except Exception as e:\n",
    "        print(e)\n",
    "        count_failed_emails += 1  \n",
    "\n",
    "print(Total_Records_from_source)\n",
    "print(count_success)\n",
    "# insrt_log = \"INSERT INTO LOG_DIM (Phase, Source_Table_Name, Target_Table_Name, Total_Records_Source_Table, \\\n",
    "            Total_Records_Target_Table, Status, Remarks, Execution_time) Values ('LtoS','eBooks2go.BLC_CONVERSION_ORDER_MASTER',\\\n",
    "            'stg_CONVERSION_ORDER_MASTER',\" +str(Total_Records_from_source)+\", \"+str(count_success)+\",'Completed','\"\\\n",
    "            +str(count_failed_emails)+\" Failed','\"+str(round(time.time() - start_time,2))+\" seconds')\"\n",
    "# pgcursor.execute(insrt_log)\n",
    "    \n",
    "mysql_db.close()\n",
    "pg_db.close()"
   ]
  },
  {
   "cell_type": "code",
   "execution_count": 8,
   "metadata": {},
   "outputs": [
    {
     "name": "stdout",
     "output_type": "stream",
     "text": [
      "['449']\n",
      "[449]\n"
     ]
    },
    {
     "ename": "NameError",
     "evalue": "name 'new_records_source' is not defined",
     "output_type": "error",
     "traceback": [
      "\u001b[0;31m---------------------------------------------------------------------------\u001b[0m",
      "\u001b[0;31mNameError\u001b[0m                                 Traceback (most recent call last)",
      "\u001b[0;32m<ipython-input-8-7fdadff38593>\u001b[0m in \u001b[0;36m<module>\u001b[0;34m\u001b[0m\n\u001b[1;32m     10\u001b[0m insrt_log = \"INSERT INTO LOG_DIM (Phase, Source_Table_Name, Target_Table_Name, \\\n\u001b[1;32m     11\u001b[0m \u001b[0mTotal_Records_Source_Table\u001b[0m\u001b[0;34m,\u001b[0m \u001b[0mTotal_Records_Target_Table\u001b[0m\u001b[0;34m,\u001b[0m \u001b[0mNew_Records_Source\u001b[0m\u001b[0;34m,\u001b[0m\u001b[0;31m \u001b[0m\u001b[0;31m\\\u001b[0m\u001b[0;34m\u001b[0m\u001b[0;34m\u001b[0m\u001b[0m\n\u001b[0;32m---> 12\u001b[0;31m New_Records_Target,Status, Remarks, Execution_time) Values ('LtoS','eBooks2go.BLC_CONVERSION_ORDER_MASTER','stg_CONVERSION_ORDER_MASTER',\" + str(Total_Records_from_source) + \",\" + str(Total_Records_from_target) + str(new_records_source) + \",\" + str(new_records_target) + \",'Completed','\" + str(count_failed) + \" Records Failed.Historical Data Update','\" + str(round(time.time() - start_time,2))+\" seconds')\"\n\u001b[0m\u001b[1;32m     13\u001b[0m \u001b[0mprint\u001b[0m\u001b[0;34m(\u001b[0m\u001b[0minsrt_log\u001b[0m\u001b[0;34m)\u001b[0m\u001b[0;34m\u001b[0m\u001b[0;34m\u001b[0m\u001b[0m\n\u001b[1;32m     14\u001b[0m \u001b[0;31m# pgcursor.execute(insrt_log)\u001b[0m\u001b[0;34m\u001b[0m\u001b[0;34m\u001b[0m\u001b[0;34m\u001b[0m\u001b[0m\n",
      "\u001b[0;31mNameError\u001b[0m: name 'new_records_source' is not defined"
     ]
    }
   ],
   "source": [
    "#Log_Audit\n",
    "mycursor.execute('SELECT count(conversion_order_id) FROM eBooks2go.BLC_CONVERSION_ORDER_MASTER')\n",
    "Total_Records_from_source = [ str(x[0]) for x in mycursor.fetchall()]\n",
    "print(Total_Records_from_source)\n",
    "\n",
    "pgcursor.execute('SELECT count(conversion_order_id) FROM stg_CONVERSION_ORDER_MASTER')\n",
    "Total_Records_from_target = [ x[0] for x in pgcursor.fetchall()]\n",
    "print(Total_Records_from_target)\n",
    "\n",
    "insrt_log = \"INSERT INTO LOG_DIM (Phase, Source_Table_Name, Target_Table_Name, \\\n",
    "Total_Records_Source_Table, Total_Records_Target_Table, New_Records_Source, \\\n",
    "New_Records_Target,Status, Remarks, Execution_time) Values ('LtoS','eBooks2go.BLC_CONVERSION_ORDER_MASTER','stg_CONVERSION_ORDER_MASTER',\" + str(Total_Records_from_source) + \",\" + str(Total_Records_from_target) + str(new_records_source) + \",\" + str(new_records_target) + \",'Completed','\" + str(count_failed) + \" Records Failed.Historical Data Update','\" + str(round(time.time() - start_time,2))+\" seconds')\"\n",
    "print(insrt_log)\n",
    "# pgcursor.execute(insrt_log)"
   ]
  },
  {
   "cell_type": "code",
   "execution_count": null,
   "metadata": {},
   "outputs": [],
   "source": []
  }
 ],
 "metadata": {
  "kernelspec": {
   "display_name": "Python 3",
   "language": "python",
   "name": "python3"
  },
  "language_info": {
   "codemirror_mode": {
    "name": "ipython",
    "version": 3
   },
   "file_extension": ".py",
   "mimetype": "text/x-python",
   "name": "python",
   "nbconvert_exporter": "python",
   "pygments_lexer": "ipython3",
   "version": "3.6.10"
  }
 },
 "nbformat": 4,
 "nbformat_minor": 2
}
