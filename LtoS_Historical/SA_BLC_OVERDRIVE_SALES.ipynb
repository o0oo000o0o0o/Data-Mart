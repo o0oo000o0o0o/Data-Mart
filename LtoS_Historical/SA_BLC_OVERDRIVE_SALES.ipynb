{
 "cells": [
  {
   "cell_type": "code",
   "execution_count": 5,
   "metadata": {},
   "outputs": [],
   "source": [
    "import mysql.connector\n",
    "import psycopg2\n",
    "import pandas as pd\n",
    "import time\n",
    "import numpy as np\n",
    "from config import host, user, password\n",
    "from config2 import user1, password1"
   ]
  },
  {
   "cell_type": "code",
   "execution_count": 6,
   "metadata": {},
   "outputs": [],
   "source": [
    "start_time = time.time()"
   ]
  },
  {
   "cell_type": "code",
   "execution_count": 7,
   "metadata": {},
   "outputs": [
    {
     "name": "stdout",
     "output_type": "stream",
     "text": [
      "MySQL Connection Established\n",
      "PostgreSQL Connection Established\n"
     ]
    }
   ],
   "source": [
    "### Establishing MySQL and PostgreSQL Connections\n",
    "\n",
    "#MySQL Connection\n",
    "try:\n",
    "    mysql_db = mysql.connector.connect(host=host,user=user,password=password,db=\"eBooks2go\")\n",
    "    mycursor = mysql_db.cursor()\n",
    "    print(\"MySQL Connection Established\")\n",
    "except mysql.connector.Error as e:\n",
    "    print(\"Unable to Connect: \",format(e))\n",
    "\n",
    "#PostgreSQL Connection\n",
    "try:\n",
    "    pg_db = psycopg2.connect(host=host,user=user1,password=password1,database=\"staging\")\n",
    "    pg_db.autocommit = True\n",
    "    pgcursor = pg_db.cursor()\n",
    "    print(\"PostgreSQL Connection Established\")\n",
    "except psycopg2.OperationalError as e:\n",
    "    print(\"Unable to Connect: \",format(e))\n",
    "\n",
    "    "
   ]
  },
  {
   "cell_type": "code",
   "execution_count": null,
   "metadata": {
    "scrolled": false
   },
   "outputs": [],
   "source": [
    "count_success = 0\n",
    "Total_Records_from_source = 0\n",
    "count_failed_emails = 0\n",
    "\n",
    "try: \n",
    "    #Selects data from table\n",
    "    data = pd.read_excel(r'/Users/mahi/Gantech/June_Overdrive.xlsx')\n",
    "    data.columns = data.columns.str.replace(' ', '_')\n",
    "    \n",
    "    Total_Records_from_source += data.shape[0]\n",
    "\n",
    "    #Extracting column names \n",
    "    col_names_lst = data.columns.tolist()\n",
    "    col_names = ', '.join(col_names_lst)+', Created_Date'+', Updated_Date'\n",
    "\n",
    "    #Inserting data from MySQL into PostgreSQL\n",
    "    placeholders = ', '.join(['%s'] * (len(col_names_lst)+2) ) \n",
    "    # print(placeholders)\n",
    "\n",
    "    #Inserting data into PostgreSQL\n",
    "    insrt_cmd = \"INSERT INTO stg_overdrive_sales(\"+col_names+\") \" \\\n",
    "                \"VALUES ( %s )\" % (placeholders)\n",
    "    # print(insrt_cmd)\n",
    "\n",
    "    for row in data.itertuples(index=False).unique():\n",
    "        pgcursor.execute(insrt_cmd,tuple(row)+tuple([time.strftime(\"%Y/%m/%d %H:%M\")])+tuple([time.strftime(\"%Y/%m/%d %H:%M\")]))\n",
    "        count_success += 1\n",
    "        \n",
    "except Exception as e:\n",
    "    count_failed_emails += 1  \n",
    "    \n",
    "insrt_log = \"INSERT INTO LOG_DIM (Phase, Source_Table_Name, Target_Table_Name, Total_Records_Source_Table,Total_Records_Target_Table, Status, Remarks, Execution_time) Values ('LtoS','Overdrive_Excel','stg_overdrive_sales',\" +str(Total_Records_from_source)+\", \"+str(count_success)+\",'Completed','\" +str(count_failed_emails)+\" Failed','\"+str(round(time.time() - start_time,2))+\" seconds')\"\n",
    "pgcursor.execute(insrt_log)\n",
    "\n",
    "print(\"Done!\")\n",
    "\n",
    "pg_db.close()\n",
    "    "
   ]
  }
 ],
 "metadata": {
  "kernelspec": {
   "display_name": "Python 3",
   "language": "python",
   "name": "python3"
  },
  "language_info": {
   "codemirror_mode": {
    "name": "ipython",
    "version": 3
   },
   "file_extension": ".py",
   "mimetype": "text/x-python",
   "name": "python",
   "nbconvert_exporter": "python",
   "pygments_lexer": "ipython3",
   "version": "3.6.10"
  }
 },
 "nbformat": 4,
 "nbformat_minor": 2
}
