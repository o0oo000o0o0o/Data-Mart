{
 "cells": [
  {
   "cell_type": "code",
   "execution_count": 1,
   "metadata": {},
   "outputs": [],
   "source": [
    "import sqlalchemy\n",
    "# from sqlalchemy.ext.automap import automap_base\n",
    "# from sqlalchemy.orm import Session\n",
    "from sqlalchemy import create_engine, inspect\n",
    "import mysql.connector\n",
    "import psycopg2\n",
    "import pandas as pd\n",
    "import time\n",
    "from config import host, user, user1, password, password1"
   ]
  },
  {
   "cell_type": "code",
   "execution_count": 2,
   "metadata": {},
   "outputs": [],
   "source": [
    "start_time = time.time()"
   ]
  },
  {
   "cell_type": "code",
   "execution_count": 3,
   "metadata": {},
   "outputs": [],
   "source": [
    "postgres_engine = create_engine(f'postgresql://{user1}:{password1}@{host}:5432/staging')"
   ]
  },
  {
   "cell_type": "code",
   "execution_count": 4,
   "metadata": {},
   "outputs": [
    {
     "data": {
      "text/html": [
       "<div>\n",
       "<style scoped>\n",
       "    .dataframe tbody tr th:only-of-type {\n",
       "        vertical-align: middle;\n",
       "    }\n",
       "\n",
       "    .dataframe tbody tr th {\n",
       "        vertical-align: top;\n",
       "    }\n",
       "\n",
       "    .dataframe thead th {\n",
       "        text-align: right;\n",
       "    }\n",
       "</style>\n",
       "<table border=\"1\" class=\"dataframe\">\n",
       "  <thead>\n",
       "    <tr style=\"text-align: right;\">\n",
       "      <th></th>\n",
       "      <th>max</th>\n",
       "    </tr>\n",
       "  </thead>\n",
       "  <tbody>\n",
       "    <tr>\n",
       "      <th>0</th>\n",
       "      <td>15</td>\n",
       "    </tr>\n",
       "  </tbody>\n",
       "</table>\n",
       "</div>"
      ],
      "text/plain": [
       "   max\n",
       "0   15"
      ]
     },
     "execution_count": 4,
     "metadata": {},
     "output_type": "execute_result"
    }
   ],
   "source": [
    "last_value = pd.read_sql('SELECT max(store_id) FROM stg_stores', con=postgres_engine)\n",
    "last_value"
   ]
  },
  {
   "cell_type": "code",
   "execution_count": 5,
   "metadata": {},
   "outputs": [
    {
     "name": "stdout",
     "output_type": "stream",
     "text": [
      "MySQL Connection Established\n",
      "PostgreSQL Connection Established\n"
     ]
    }
   ],
   "source": [
    "### Establishing MySQL and PostgreSQL Connections\n",
    "\n",
    "#MySQL Connection\n",
    "try:\n",
    "    mysql_db = mysql.connector.connect(host=host,user=user,password=password,db=\"eBooks2go\")\n",
    "    mycursor = mysql_db.cursor()\n",
    "    print(\"MySQL Connection Established\")\n",
    "except mysql.connector.Error as e:\n",
    "    print(\"Unable to Connect: \",format(e))\n",
    "\n",
    "#PostgreSQL Connection\n",
    "try:\n",
    "    pg_db = psycopg2.connect(host=host,user=user1,password=password1,database=\"staging\")\n",
    "    pg_db.autocommit = True\n",
    "    pgcursor = pg_db.cursor()\n",
    "    print(\"PostgreSQL Connection Established\")\n",
    "except psycopg2.OperationalError as e:\n",
    "    print(\"Unable to Connect: \",format(e))\n"
   ]
  },
  {
   "cell_type": "code",
   "execution_count": null,
   "metadata": {},
   "outputs": [],
   "source": [
    "count_success = 0\n",
    "Total_Records_from_source = 0\n",
    "count_failed_emails = 0\n",
    "\n",
    "#Selects data from table\n",
    "slt_cmd =\"SELECT * FROM eBooks2go.BLC_STORES WHERE STORE_ID > \" + str(last_value)\n",
    "mycursor.execute(slt_cmd)\n",
    "\n",
    "#Extracting column names \n",
    "col_names_lst = [i[0] for i in mycursor.description] \n",
    "col_names = ', '.join(col_names_lst)+', Created_Date'+', Updated_Date'\n",
    "\n",
    "#Inserting data from MySQL into PostgreSQL\n",
    "placeholders = ', '.join(['%s'] * (len(col_names_lst)+2) ) \n",
    "\n",
    "#Inserting data into PostgreSQL\n",
    "insrt_cmd = \"INSERT INTO stg_stores(\"+col_names+\") \" \\\n",
    "            \"VALUES ( %s )\" % (placeholders)\n",
    "\n",
    "for row in mycursor:\n",
    "    try:\n",
    "        Total_Records_from_source = mycursor.rowcount\n",
    "        pgcursor.execute(insrt_cmd,row+tuple([time.strftime(\"%Y/%m/%d %H:%M\")])+tuple([time.strftime(\"%Y/%m/%d %H:%M\")]))\n",
    "        count_success += 1\n",
    "        \n",
    "    except Exception as e:\n",
    "        count_failed_emails += 1  \n",
    "\n",
    "insrt_log = \"INSERT INTO LOG_DIM (Phase, Source_Table_Name, Target_Table_Name, Total_Records_Source_Table,Total_Records_Target_Table, Status, Remarks, Execution_time) Values ('LtoS','eBooks2go.BLC_STORES','stg_STORES',\" +str(Total_Records_from_source)+\", \"+str(count_success)+\",'Completed','\" +str(count_failed_emails)+\" Failed','\"+str(round(time.time() - start_time,2))+\" seconds')\"\n",
    "pgcursor.execute(insrt_log)\n",
    "    \n",
    "mysql_db.close()\n",
    "pg_db.close()"
   ]
  }
 ],
 "metadata": {
  "kernelspec": {
   "display_name": "Python 3",
   "language": "python",
   "name": "python3"
  },
  "language_info": {
   "codemirror_mode": {
    "name": "ipython",
    "version": 3
   },
   "file_extension": ".py",
   "mimetype": "text/x-python",
   "name": "python",
   "nbconvert_exporter": "python",
   "pygments_lexer": "ipython3",
   "version": "3.6.10"
  }
 },
 "nbformat": 4,
 "nbformat_minor": 2
}
