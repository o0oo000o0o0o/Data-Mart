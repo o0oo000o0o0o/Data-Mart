{
 "cells": [
  {
   "cell_type": "code",
   "execution_count": 1,
   "metadata": {},
   "outputs": [],
   "source": [
    "import psycopg2\n",
    "import pandas as pd\n",
    "import sqlalchemy\n",
    "from sqlalchemy import create_engine, inspect\n",
    "import time\n",
    "from config import host, user, user1, password, password1\n"
   ]
  },
  {
   "cell_type": "code",
   "execution_count": 2,
   "metadata": {},
   "outputs": [],
   "source": [
    "start_time = time.time()\n",
    "postgres_engine = create_engine(f'postgresql://{user1}:{password1}@{host}:5432/staging')\n",
    "company_name = pd.read_sql('SELECT master_customer_id, company_name, updated_date FROM dw_company_name_dim', con=postgres_engine)"
   ]
  },
  {
   "cell_type": "code",
   "execution_count": null,
   "metadata": {},
   "outputs": [],
   "source": [
    "last_val = company_name['master_customer_id'].sort_values().iloc[-1]\n",
    "print(last_val)\n",
    "\n",
    "last_date = company_name['updated_date'].max()\n",
    "print(last_date)"
   ]
  },
  {
   "cell_type": "code",
   "execution_count": null,
   "metadata": {},
   "outputs": [],
   "source": [
    "stg_bpm = pd.read_sql(\"SELECT company_name, email FROM stg_bpm_client_info where updated_date >'\"+str(last_date)+\"'\", con=postgres_engine)\n",
    "stg_blc = pd.read_sql(\"SELECT publisher_name, email_address FROM stg_blc_customer where role_id = 1 and address_line1 is not null and updated_date >'\"+str(last_date)+\"'\", con=postgres_engine)\n",
    "master = pd.read_sql(\"SELECT master_customer_id, email_address FROM dw_master_customer_dim where master_customer_id > '\"+str(last_val)+\"'\", con=postgres_engine)\n",
    "master"
   ]
  },
  {
   "cell_type": "code",
   "execution_count": null,
   "metadata": {},
   "outputs": [],
   "source": [
    "stg_bpm = stg_bpm.rename(columns={\"email\": \"email_address\"})\n",
    "stg_blc = stg_blc.rename(columns={\"publisher_name\": \"company_name\"})\n",
    "total_data = stg_blc.append(stg_bpm)"
   ]
  },
  {
   "cell_type": "code",
   "execution_count": null,
   "metadata": {},
   "outputs": [],
   "source": [
    "total_data[\"email_address\"] = total_data[\"email_address\"].str.lower()\n",
    "total_data = total_data[total_data['company_name'] != '']\n",
    "total_data = total_data.dropna()\n",
    "print(len(total_data))\n",
    "len(total_data['email_address'].unique())"
   ]
  },
  {
   "cell_type": "code",
   "execution_count": null,
   "metadata": {},
   "outputs": [],
   "source": [
    "counter = 0\n",
    "\n",
    "data_df = pd.DataFrame()\n",
    "\n",
    "for i in total_data['email_address'].unique():\n",
    "\n",
    "    try:\n",
    "        if i != None or master['email_address'].str.contains(i).any():\n",
    "            mc_id = master[master['email_address']==i].to_dict('record')[0]['master_customer_id']\n",
    "            publisher_name = total_data[total_data['email_address']==i].to_dict('record')[0]['company_name']\n",
    "            dict_data = {\n",
    "                    \"master_customer_id\": mc_id,\n",
    "                    \"company_name\": publisher_name\n",
    "                   }\n",
    "\n",
    "    #         print(dict_data)\n",
    "\n",
    "\n",
    "            if dict_data['company_name'] == None or dict_data['company_name'] == '':\n",
    "                print(\"Pass\")\n",
    "                pass\n",
    "            else:\n",
    "                data_df = data_df.append(dict_data, ignore_index=True)\n",
    "\n",
    "    except Exception as e:\n",
    "        print(\"email:\",i)\n",
    "        counter += 1\n",
    "        pass\n",
    "        print(\"error:\",e)\n",
    "        \n",
    "    \n",
    "#     print(\"----------\")\n",
    "\n",
    "data_df = data_df.drop_duplicates()\n",
    "print(data_df)\n",
    "data_df.to_sql(name='dw_company_name_dim', con=postgres_engine, if_exists='append', index=False, method='multi')\n",
    "\n",
    "display(data_df)\n",
    "\n"
   ]
  },
  {
   "cell_type": "code",
   "execution_count": null,
   "metadata": {},
   "outputs": [],
   "source": []
  }
 ],
 "metadata": {
  "kernelspec": {
   "display_name": "Python 3",
   "language": "python",
   "name": "python3"
  },
  "language_info": {
   "codemirror_mode": {
    "name": "ipython",
    "version": 3
   },
   "file_extension": ".py",
   "mimetype": "text/x-python",
   "name": "python",
   "nbconvert_exporter": "python",
   "pygments_lexer": "ipython3",
   "version": "3.6.10"
  }
 },
 "nbformat": 4,
 "nbformat_minor": 4
}
