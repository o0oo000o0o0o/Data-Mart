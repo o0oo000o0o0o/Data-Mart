{
 "cells": [
  {
   "cell_type": "code",
   "execution_count": 1,
   "metadata": {},
   "outputs": [],
   "source": [
    "import psycopg2\n",
    "import pandas as pd\n",
    "import time\n",
    "from config import host, user, user1, password, password1\n",
    "start_time = time.time()"
   ]
  },
  {
   "cell_type": "code",
   "execution_count": 2,
   "metadata": {},
   "outputs": [
    {
     "name": "stdout",
     "output_type": "stream",
     "text": [
      "PostgreSQL Connection Established\n",
      "PostgreSQL Connection Established\n",
      "PostgreSQL Connection Established\n"
     ]
    }
   ],
   "source": [
    "### Establishing MySQL and PostgreSQL Connections\n",
    "\n",
    "#PostgreSQL Connection\n",
    "try:\n",
    "    pg_db = psycopg2.connect(host=host,user=user1,password=password1,database=\"staging\")\n",
    "    pg_db.autocommit = True\n",
    "    pgcursor = pg_db.cursor()\n",
    "    print(\"PostgreSQL Connection Established\")\n",
    "except psycopg2.OperationalError as e:\n",
    "    print(\"Unable to Connect: \",format(e))\n",
    "\n",
    "#PostgreSQL Connection\n",
    "try:\n",
    "    pg_db1 = psycopg2.connect(host=host,user=user1,password=password1,database=\"staging\")\n",
    "    pg_db1.autocommit = True\n",
    "    pgcursor1 = pg_db1.cursor()\n",
    "    print(\"PostgreSQL Connection Established\")\n",
    "except psycopg2.OperationalError as e:\n",
    "    print(\"Unable to Connect: \",format(e))\n",
    "\n",
    "#PostgreSQL Connection 2\n",
    "try:\n",
    "    pg_db2 = psycopg2.connect(host=host,user=user1,password=password1,database=\"staging\")\n",
    "    pg_db2.autocommit = True\n",
    "    pgcursor2 = pg_db2.cursor()\n",
    "    print(\"PostgreSQL Connection Established\")\n",
    "except psycopg2.OperationalError as e:\n",
    "    print(\"Unable to Connect: \",format(e))\n",
    "    "
   ]
  },
  {
   "cell_type": "code",
   "execution_count": null,
   "metadata": {},
   "outputs": [],
   "source": [
    "new_records_source = 0\n",
    "new_records_target = 0\n",
    "count_failed = 0\n",
    "\n",
    "slt_mc = \"select master_customer_id, email_address from dw_master_customer_dim\"\n",
    "pgcursor.execute(slt_mc)\n",
    "\n",
    "for i in pgcursor:\n",
    "#     new_records_source = pgcursor.rowcount\n",
    "    print(i)\n",
    "    try:\n",
    "        slt_blc = \"select publisher_name,email_address from stg_blc_customer where email_address = '\"+i[1]+\"' \\\n",
    "                    and (role_id = 1 and address_line1 is not null) and publisher_name is not null and publisher_name != '' \"\n",
    "\n",
    "        #Selecting BLC Publisher_Names\n",
    "        pgcursor1.execute(slt_blc)\n",
    "\n",
    "        for x in pgcursor1:\n",
    "            print(x)\n",
    "            if i[1] == x[1]:\n",
    "                if x[0] != None:\n",
    "                    z = x[0].replace(\"'\", \"''\")\n",
    "                    print(\"insert into dw_company_name_dim (master_customer_id,company_name,created_date,updated_date)\\\n",
    "                    values (\"+str(i[0])+\", '\"+str(z)+\"', current_timestamp, current_timestamp)\")\n",
    "#                     pgcursor2.execute(\"insert into dw_company_name_dim (master_customer_id,company_name,created_date,updated_date)\\\n",
    "#                     values (\"+str(i[0])+\", '\"+str(z)+\"', current_timestamp, current_timestamp)\")\n",
    "    #             else:\n",
    "    #                 pgcursor2.execute(\"insert into dw_company_name_dim (master_customer_id,company_name,created_date,updated_date)\\\n",
    "    #                 values (\"+str(i[0])+\", '\"+str(x[0])+\"', current_timestamp, current_timestamp)\")\n",
    "\n",
    "        slt_bpm = \"\"\"select company_name,email from stg_bpm_client_info where email = '\"+i[1]+\"' \n",
    "                and company_name is not null and company_name != '' \n",
    "                group by company_name,email\"\"\"\n",
    "\n",
    "        pgcursor1.execute(slt_bpm)\n",
    "\n",
    "        for x in pgcursor1:\n",
    "            if i[1] == x[1]:\n",
    "                if x[0] != None:\n",
    "                    z = x[0].replace(\"'\", \"''\")\n",
    "                    print(\"insert into dw_company_name_dim (master_customer_id,company_name,created_date,updated_date)\\\n",
    "                    values (\"+str(i[0])+\", '\"+str(z)+\"', current_timestamp, current_timestamp)\")\n",
    "#                     pgcursor2.execute(\"insert into dw_company_name_dim (master_customer_id,company_name,created_date,updated_date)\\\n",
    "#                     values (\"+str(i[0])+\", '\"+str(z)+\"', current_timestamp, current_timestamp)\")\n",
    "    #             else:\n",
    "    #                 values (\"+str(i[0])+\", '\"+str(x[0])+\"', current_timestamp, current_timestamp)\")\n",
    "\n",
    "        new_records_target += 1\n",
    "        \n",
    "    except Exception as e:\n",
    "        count_failed += 1 "
   ]
  },
  {
   "cell_type": "code",
   "execution_count": null,
   "metadata": {},
   "outputs": [],
   "source": [
    "# #Log_Audit\n",
    "# Total_Records_from_target = 0\n",
    "\n",
    "# pgcursor1.execute('SELECT count(company_name_id) FROM dw_company_name_dim')\n",
    "# Total_Records_from_source = ','.join(map(str,[str(x[0]) for x in pgcursor1.fetchall()]))\n",
    "\n",
    "# insrt_log = \"INSERT INTO LOG_audit (Phase, Source_Table_Name, Target_Table_Name, \\\n",
    "# Total_Records_Source_Table, Total_Records_Target_Table, New_Records_Source, \\\n",
    "# New_Records_Target,Status, Remarks, Execution_time) Values ('StoDW','None','dw_company_name_dim',\" + str(Total_Records_from_source) + \",\" + str(Total_Records_from_target) + \",\"+ str(new_records_source) + \",\" + str(new_records_target) + \",'Completed','\" + str(count_failed) + \" Records Failed.Incremental Update','\" + str(round(time.time() - start_time,2))+\" seconds')\"\n",
    "# pgcursor2.execute(insrt_log)\n",
    "\n",
    "pg_db.close()\n",
    "pg_db1.close()\n",
    "pg_db2.close()"
   ]
  }
 ],
 "metadata": {
  "kernelspec": {
   "display_name": "Python 3",
   "language": "python",
   "name": "python3"
  },
  "language_info": {
   "codemirror_mode": {
    "name": "ipython",
    "version": 3
   },
   "file_extension": ".py",
   "mimetype": "text/x-python",
   "name": "python",
   "nbconvert_exporter": "python",
   "pygments_lexer": "ipython3",
   "version": "3.6.10"
  }
 },
 "nbformat": 4,
 "nbformat_minor": 4
}
