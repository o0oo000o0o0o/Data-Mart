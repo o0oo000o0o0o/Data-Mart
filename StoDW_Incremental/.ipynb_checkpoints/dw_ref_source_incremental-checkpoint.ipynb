{
 "cells": [
  {
   "cell_type": "code",
   "execution_count": 3,
   "metadata": {},
   "outputs": [],
   "source": [
    "import psycopg2\n",
    "import time\n",
    "import numpy as np\n",
    "from config import host, user, user1, password, password1\n",
    "\n",
    "start_time = time.time()"
   ]
  },
  {
   "cell_type": "code",
   "execution_count": 4,
   "metadata": {},
   "outputs": [
    {
     "name": "stdout",
     "output_type": "stream",
     "text": [
      "PostgreSQL Connection Established\n",
      "PostgreSQL Connection Established\n",
      "PostgreSQL Connection Established\n",
      "PostgreSQL Connection Established\n",
      "PostgreSQL Connection Established\n"
     ]
    }
   ],
   "source": [
    "#Psycopg2 Connections\n",
    "#PostgreSQL Connection\n",
    "try:\n",
    "    pg_db = psycopg2.connect(host=host,user=user1,password=password1,database=\"staging\")\n",
    "    pg_db.autocommit = True\n",
    "    pgcursor = pg_db.cursor()\n",
    "    print(\"PostgreSQL Connection Established\")\n",
    "except psycopg2.OperationalError as e:\n",
    "    print(\"Unable to Connect: \",format(e))\n",
    "\n",
    "# PostgreSQL Connection 1\n",
    "try:\n",
    "    pg_db1 = psycopg2.connect(host=host,user=user1,password=password1,database=\"staging\")\n",
    "    pg_db1.autocommit = True\n",
    "    pgcursor1 = pg_db1.cursor()\n",
    "    print(\"PostgreSQL Connection Established\")\n",
    "except psycopg2.OperationalError as e:\n",
    "    print(\"Unable to Connect: \",format(e))\n",
    "    \n",
    "#PostgreSQL Connection 2\n",
    "try:\n",
    "    pg_db2 = psycopg2.connect(host=host,user=user1,password=password1,database=\"staging\")\n",
    "    pg_db2.autocommit = True\n",
    "    pgcursor2 = pg_db2.cursor()\n",
    "    print(\"PostgreSQL Connection Established\")\n",
    "except psycopg2.OperationalError as e:\n",
    "    print(\"Unable to Connect: \",format(e))\n",
    "    \n",
    "#PostgreSQL Connection 3\n",
    "try:\n",
    "    pg_db3 = psycopg2.connect(host=host,user=user1,password=password1,database=\"staging\")\n",
    "    pg_db3.autocommit = True\n",
    "    pgcursor3 = pg_db3.cursor()\n",
    "    print(\"PostgreSQL Connection Established\")\n",
    "except psycopg2.OperationalError as e:\n",
    "    print(\"Unable to Connect: \",format(e))\n",
    "\n",
    "#PostgreSQL Connection 4\n",
    "try:\n",
    "    pg_db4 = psycopg2.connect(host=host,user=user1,password=password1,database=\"staging\")\n",
    "    pg_db4.autocommit = True\n",
    "    pgcursor4 = pg_db4.cursor()\n",
    "    print(\"PostgreSQL Connection Established\")\n",
    "except psycopg2.OperationalError as e:\n",
    "    print(\"Unable to Connect: \",format(e))"
   ]
  },
  {
   "cell_type": "code",
   "execution_count": 5,
   "metadata": {},
   "outputs": [
    {
     "name": "stdout",
     "output_type": "stream",
     "text": [
      "last_id: 10897\n",
      "Total_Records_from_source: 10624\n"
     ]
    }
   ],
   "source": [
    "# Get last updated date\n",
    "pgcursor.execute('SELECT max(master_customer_id) FROM dw_ref_source_dim')\n",
    "last_id = ','.join(map(str,[str(x[0]) for x in pgcursor.fetchall()]))\n",
    "print('last_id:',last_id)\n",
    "\n",
    "# Get counts for Audit before new records are added into the table\n",
    "pgcursor.execute('SELECT count(ref_id) FROM dw_ref_source_dim')\n",
    "Total_Records_from_source = ','.join(map(str,[str(x[0]) for x in pgcursor.fetchall()]))\n",
    "print('Total_Records_from_source:',Total_Records_from_source)"
   ]
  },
  {
   "cell_type": "code",
   "execution_count": null,
   "metadata": {},
   "outputs": [],
   "source": [
    "new_records_source = 0\n",
    "new_records_target = 0\n",
    "count_failed = 0\n",
    "\n",
    "slt_cmd = \"SELECT master_customer_id, email_address FROM master_customer_test where master_customer_id >\"+str(last_id)\n",
    "pgcursor.execute(slt_cmd)\n",
    "\n",
    "for i in pgcursor:\n",
    "    try:\n",
    "        new_records_source = pgcursor.rowcount\n",
    "    #   establish all pgcursors connecting to each individual source table\n",
    "\n",
    "        pgcursor1.execute(\"SELECT email_address from stg_crm_customer where email_address = '\"+i[1]+\"'\")\n",
    "        pgcursor3.execute(\"SELECT email_address from stg_blc_customer where email_address = '\"+i[1]+\"'\")\n",
    "        pgcursor4.execute(\"SELECT email from stg_bpm_client_info where email = '\"+i[1]+\"'\")\n",
    "    #         ------------------------------------------------------------------------------------------------------\n",
    "        for x in pgcursor1:\n",
    "            if i[1] == x[0]:\n",
    "    #             print(\"True-pg1\")\n",
    "    #             print(\"INSERT INTO dw_ref_source_dim (master_customer_id, source_id) values (\"+str(i[0])+\", 3)\")\n",
    "                pgcursor2.execute(\"INSERT INTO dw_ref_source_dim (master_customer_id,source_id,created_date, updated_date) values (\"+str(i[0])+\", 3,current_timestamp,current_timestamp)\")\n",
    "            break\n",
    "        for y in pgcursor3:\n",
    "            if i[1] == y[0]:\n",
    "                pgcursor2.execute(\"INSERT INTO dw_ref_source_dim (master_customer_id, source_id,created_date, updated_date) values (\"+str(i[0])+\", 1,current_timestamp,current_timestamp)\")\n",
    "            break\n",
    "        for z in pgcursor4:\n",
    "            if i[1] == z[0]:\n",
    "                pgcursor2.execute(\"INSERT INTO dw_ref_source_dim (master_customer_id, source_id,created_date, updated_date) values (\"+str(i[0])+\", 2,current_timestamp,current_timestamp)\")\n",
    "            break  \n",
    "\n",
    "        new_records_target += 1\n",
    "    \n",
    "    except Exception as e:\n",
    "        count_failed += 1\n",
    "\n",
    "\n",
    "#Log_Audit\n",
    "Total_Records_from_target = 0\n",
    "\n",
    "pgcursor1.execute('SELECT count(source_id) FROM dw_ref_source_dim')\n",
    "Total_Records_from_source = ','.join(map(str,[str(x[0]) for x in pgcursor1.fetchall()]))\n",
    "\n",
    "insrt_log = \"INSERT INTO LOG_audit (Phase, Source_Table_Name, Target_Table_Name, \\\n",
    "Total_Records_Source_Table, Total_Records_Target_Table, New_Records_Source, \\\n",
    "New_Records_Target,Status, Remarks, Execution_time) Values ('StoDW','None','dw_ref_source_dim',\" + str(Total_Records_from_source) + \",\" + str(Total_Records_from_target) + \",\"+ str(new_records_source) + \",\" + str(new_records_target) + \",'Completed','\" + str(count_failed) + \" Records Failed.Incremental Update','\" + str(round(time.time() - start_time,2))+\" seconds')\"\n",
    "pgcursor.execute(insrt_log)\n",
    "\n",
    "pg_db.close()\n",
    "pg_db1.close()\n",
    "pg_db2.close()\n",
    "pg_db3.close()\n",
    "pg_db4.close()"
   ]
  }
 ],
 "metadata": {
  "kernelspec": {
   "display_name": "Python 3",
   "language": "python",
   "name": "python3"
  },
  "language_info": {
   "codemirror_mode": {
    "name": "ipython",
    "version": 3
   },
   "file_extension": ".py",
   "mimetype": "text/x-python",
   "name": "python",
   "nbconvert_exporter": "python",
   "pygments_lexer": "ipython3",
   "version": "3.6.10"
  }
 },
 "nbformat": 4,
 "nbformat_minor": 4
}
