{
 "cells": [
  {
   "cell_type": "code",
   "execution_count": 2,
   "metadata": {},
   "outputs": [],
   "source": [
    "import psycopg2\n",
    "import pandas as pd\n",
    "import time\n",
    "from config import host, user, user1, password, password1"
   ]
  },
  {
   "cell_type": "code",
   "execution_count": 3,
   "metadata": {},
   "outputs": [],
   "source": [
    "start_time = time.time()"
   ]
  },
  {
   "cell_type": "code",
   "execution_count": 4,
   "metadata": {
    "scrolled": false
   },
   "outputs": [
    {
     "name": "stdout",
     "output_type": "stream",
     "text": [
      "PostgreSQL Connection Established\n",
      "PostgreSQL Connection Established\n"
     ]
    }
   ],
   "source": [
    "#PostgreSQL Connection\n",
    "try:\n",
    "    pg_db = psycopg2.connect(host=host,user=user1,password=password1,database=\"staging\")\n",
    "    pg_db.autocommit = True\n",
    "    pgcursor = pg_db.cursor()\n",
    "    print(\"PostgreSQL Connection Established\")\n",
    "except psycopg2.OperationalError as e:\n",
    "    print(\"Unable to Connect: \",format(e))\n",
    "\n",
    "#PostgreSQL Connection 2\n",
    "try:\n",
    "    pg_db1 = psycopg2.connect(host=host,user=user1,password=password1,database=\"staging\")\n",
    "    pg_db1.autocommit = True\n",
    "    pgcursor1 = pg_db1.cursor()\n",
    "    print(\"PostgreSQL Connection Established\")\n",
    "except psycopg2.OperationalError as e:\n",
    "    print(\"Unable to Connect: \",format(e))"
   ]
  },
  {
   "cell_type": "code",
   "execution_count": null,
   "metadata": {},
   "outputs": [],
   "source": [
    "count_success = 0\n",
    "Total_Records_from_source = 0\n",
    "count_failed_emails = 0\n",
    "\n",
    "#Selects data from table\n",
    "slt_cmd =\"Select Distribution_OrderInfo_ID,ISBN,ARCHIVED,EBOOK,LIST_PRICE,ORDER_STATUS,ORDER_STATUS_DATE, \\\n",
    "TITLE,DISTRIBUTION_ORDER_INSTORES_ID,DISTRIBUTION_METADATA_ID,ID,ORDER_DATE,CCID,FORMAT, \\\n",
    "UPDATED_STATUS,CREATED_DATE,UPDATED_DATE from stg_distribution_orderinfo\"\n",
    "pgcursor.execute(slt_cmd)\n",
    "\n",
    "#Extracting column names \n",
    "col_names_lst = [i[0] for i in pgcursor.description] \n",
    "col_names = ', '.join(col_names_lst)\n",
    "\n",
    "#Inserting data from PostgreSQL STG into PostgreSQL DW\n",
    "placeholders = ', '.join(['%s'] * (len(col_names_lst)) ) \n",
    "\n",
    "#Inserting data into PostgreSQL DW\n",
    "insrt_cmd = \"INSERT INTO DW_Distribution_Order_Info_DIM(Distribution_OrderInfo_ID,ISBN,ARCHIVED,EBOOK,LIST_PRICE,ORDER_STATUS,ORDER_STATUS_DATE, \\\n",
    "TITLE,DISTRIBUTION_ORDER_INSTORES_ID,DISTRIBUTION_METADATA_ID,CUSTOMER_ID,ORDER_DATE,CCID,FORMAT, \\\n",
    "UPDATED_STATUS,CREATED_DATE,UPDATED_DATE) \" \\\n",
    "            \"VALUES ( %s )\" % (placeholders)\n",
    "# print(insrt_cmd)\n",
    "\n",
    "for row in pgcursor:\n",
    "    try:\n",
    "        Total_Records_from_source = pgcursor.rowcount\n",
    "        pgcursor1.execute(insrt_cmd,row)\n",
    "        count_success += 1\n",
    "    \n",
    "    except Exception as e:\n",
    "        count_failed_emails += 1 \n",
    "        \n",
    "insrt_log = \"INSERT INTO LOG_DIM (Phase, Source_Table_Name, Target_Table_Name, Total_Records_Source_Table, \\\n",
    "Total_Records_Target_Table,New_Records_Source,New_Records_Target, Status, Remarks, Execution_time) \\\n",
    "Values ('StoDW','stg_DISTRIBUTION_ORDERINFO','DW_Distribution_Order_Info_DIM',\" +str(Total_Records_from_source)\\\n",
    "+\", \"+str(count_success)+\",'Completed','\" +str(count_failed_emails)+\" Failed','\"+str(round(time.time() - start_time,2))+\" seconds')\"\n",
    "pgcursor.execute(insrt_log)\n",
    "\n",
    "pg_db.close()\n",
    "pg_db1.close()"
   ]
  }
 ],
 "metadata": {
  "kernelspec": {
   "display_name": "Python 3",
   "language": "python",
   "name": "python3"
  },
  "language_info": {
   "codemirror_mode": {
    "name": "ipython",
    "version": 3
   },
   "file_extension": ".py",
   "mimetype": "text/x-python",
   "name": "python",
   "nbconvert_exporter": "python",
   "pygments_lexer": "ipython3",
   "version": "3.6.10"
  }
 },
 "nbformat": 4,
 "nbformat_minor": 2
}
