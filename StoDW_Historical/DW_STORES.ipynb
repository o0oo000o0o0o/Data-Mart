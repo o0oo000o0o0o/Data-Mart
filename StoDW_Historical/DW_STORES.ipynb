{
 "cells": [
  {
   "cell_type": "code",
   "execution_count": null,
   "metadata": {},
   "outputs": [],
   "source": [
    "import psycopg2\n",
    "import pandas as pd\n",
    "import time"
   ]
  },
  {
   "cell_type": "code",
   "execution_count": null,
   "metadata": {},
   "outputs": [],
   "source": [
    "start_time = time.time()"
   ]
  },
  {
   "cell_type": "code",
   "execution_count": null,
   "metadata": {
    "scrolled": false
   },
   "outputs": [],
   "source": [
    "#PostgreSQL Connection\n",
    "try:\n",
    "    pg_db = psycopg2.connect(host=\"165.22.220.96\",user=\"praveen\",password=\"Admin123\",database=\"staging\")\n",
    "    pg_db.autocommit = True\n",
    "    pgcursor = pg_db.cursor()\n",
    "    print(\"PostgreSQL Connection Established\")\n",
    "except psycopg2.OperationalError as e:\n",
    "    print(\"Unable to Connect: \",format(e))\n",
    "\n",
    "#PostgreSQL Connection 2\n",
    "try:\n",
    "    pg_db1 = psycopg2.connect(host=\"165.22.220.96\",user=\"praveen\",password=\"Admin123\",database=\"staging\")\n",
    "    pg_db1.autocommit = True\n",
    "    pgcursor1 = pg_db1.cursor()\n",
    "    print(\"PostgreSQL Connection Established\")\n",
    "except psycopg2.OperationalError as e:\n",
    "    print(\"Unable to Connect: \",format(e))"
   ]
  },
  {
   "cell_type": "code",
   "execution_count": null,
   "metadata": {},
   "outputs": [],
   "source": [
    "#Selects data from table\n",
    "slt_cmd =\"Select store_id,store_name,store_royalty,Created_Date,Updated_Date from stg_stores\"\n",
    "pgcursor.execute(slt_cmd)\n",
    "\n",
    "#Extracting column names \n",
    "col_names_lst = [i[0] for i in pgcursor.description] \n",
    "col_names = ', '.join(col_names_lst)\n",
    "# print(col_names)\n",
    "\n",
    "#Inserting data from PostgreSQL STG into PostgreSQL DW\n",
    "placeholders = ', '.join(['%s'] * (len(col_names_lst)) ) \n",
    "\n",
    "#Inserting data into PostgreSQL DW\n",
    "insrt_cmd = \"INSERT INTO DW_stores_dim(\"+col_names+\") \" \\\n",
    "            \"VALUES ( %s )\" % (placeholders)\n",
    "# print(insrt_cmd)\n",
    "\n",
    "for row in pgcursor:\n",
    "    try:\n",
    "        Total_Records_from_source = pgcursor.rowcount\n",
    "        pgcursor1.execute(insrt_cmd,row)\n",
    "        \n",
    "        count_success += 1\n",
    "    except Exception as e:\n",
    "        count_failed_emails += 1\n",
    "    \n",
    "insrt_log = \"INSERT INTO LOG_DIM (Phase, Source_Table_Name, Target_Table_Name, Total_Records_Source_Table,Total_Records_Target_Table, Status, Remarks, Execution_time) Values ('StoDW','stg_stores','DW_stores_dim',\" +str(Total_Records_from_source)+\", \"+str(count_success)+\",'Completed','\" +str(count_failed)+\" Records Failed','\"+str(round(time.time() - start_time,2))+\" seconds')\"\n",
    "pgcursor.execute(insrt_log)\n",
    "\n",
    "pg_db.close()\n",
    "pg_db1.close()"
   ]
  },
  {
   "cell_type": "code",
   "execution_count": null,
   "metadata": {},
   "outputs": [],
   "source": []
  }
 ],
 "metadata": {
  "kernelspec": {
   "display_name": "Python 3",
   "language": "python",
   "name": "python3"
  },
  "language_info": {
   "codemirror_mode": {
    "name": "ipython",
    "version": 3
   },
   "file_extension": ".py",
   "mimetype": "text/x-python",
   "name": "python",
   "nbconvert_exporter": "python",
   "pygments_lexer": "ipython3",
   "version": "3.6.10"
  }
 },
 "nbformat": 4,
 "nbformat_minor": 2
}
