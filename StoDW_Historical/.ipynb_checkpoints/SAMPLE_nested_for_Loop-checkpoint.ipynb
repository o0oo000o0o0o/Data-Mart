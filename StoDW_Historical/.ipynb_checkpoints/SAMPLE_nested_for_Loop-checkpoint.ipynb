{
 "cells": [
  {
   "cell_type": "code",
   "execution_count": null,
   "metadata": {},
   "outputs": [],
   "source": [
    "import pdb \n",
    "import pandas as pd\n",
    "import numpy as np"
   ]
  },
  {
   "cell_type": "code",
   "execution_count": null,
   "metadata": {},
   "outputs": [],
   "source": [
    "data = pd.DataFrame({\n",
    "    \"name\": [\"Jim\", \"Him\", \"Tim\", \"Kim\", \"Tim\", \"Him\", \"Jim\", \"Kim\"],\n",
    "    \"customer_id\":[1,2,3,4,5,6,7,8],\n",
    "    \"source\": [\"S1\", \"S2\", \"S3\", \"S4\", \"S5\", \"S6\", \"S7\", \"S8\"]\n",
    "})\n",
    "data.loc[1][\"name\"]"
   ]
  },
  {
   "cell_type": "code",
   "execution_count": null,
   "metadata": {},
   "outputs": [],
   "source": [
    "empty = pd.DataFrame({\n",
    "    \"master\":[1],\n",
    "    \"source\":[\"BLC\"],\n",
    "    \"customer_id\":[5],\n",
    "    \"name\":[\"Jack\"]\n",
    "})\n",
    "empty\n"
   ]
  },
  {
   "cell_type": "code",
   "execution_count": null,
   "metadata": {},
   "outputs": [],
   "source": [
    "# names = [\"Jim\",\"Tim\"]\n",
    "# df = []\n",
    "\n",
    "# for i in np.arange(0,len(data)):\n",
    "#     if data.loc[i][\"name\"] not in names:\n",
    "#         df.append(data.drop_duplicates(subset = [\"name\"]))\n",
    "# #     else:\n",
    "# #         df.append(data.drop_duplicates(subset = [\"name\"]))\n",
    "        \n",
    "# df"
   ]
  },
  {
   "cell_type": "code",
   "execution_count": null,
   "metadata": {},
   "outputs": [],
   "source": [
    "data = data.drop_duplicates(subset = [\"name\"], keep = \"last\")\n",
    "data"
   ]
  },
  {
   "cell_type": "code",
   "execution_count": null,
   "metadata": {},
   "outputs": [],
   "source": [
    "res = data[~data[['name']].apply(frozenset, axis=1).duplicated()]\n",
    "\n",
    "res"
   ]
  },
  {
   "cell_type": "code",
   "execution_count": null,
   "metadata": {},
   "outputs": [],
   "source": [
    "for index,row in data.iterrows():\n",
    "    s = row.to_frame().T\n",
    "#     print(s.iloc[0])\n",
    "    for i,r in empty.iterrows():\n",
    "        if s['name'] != r[\"name\"]:\n",
    "            r = s\n",
    "#         x = r.to_frame().T\n",
    "#         x = s\n",
    "        print(r)\n",
    "#         print(row[~row.name.isin(r[\"name\"])])\n",
    "#         empty.loc[i] = data.iloc[i]\n",
    "#         empty.append(row)\n",
    "\n",
    "        \n",
    "empty"
   ]
  },
  {
   "cell_type": "code",
   "execution_count": null,
   "metadata": {},
   "outputs": [],
   "source": [
    "for index,row in empty.iterrows():\n",
    "    print(\"in\")\n",
    "    for i,r in data.iterrows():\n",
    "        print(r)\n",
    "        if ~r.name.isin(row[\"name\"]) == False:\n",
    "#         if r['name'] not in row[\"name\"]:\n",
    "            empty.append(r)\n",
    "\n",
    "empty"
   ]
  },
  {
   "cell_type": "code",
   "execution_count": null,
   "metadata": {},
   "outputs": [],
   "source": []
  },
  {
   "cell_type": "code",
   "execution_count": null,
   "metadata": {
    "scrolled": true
   },
   "outputs": [],
   "source": [
    "# for index,row in df.iterrows():\n",
    "# #     print(row[0])\n",
    "#     print(type(row))\n",
    "#     if row[0] not in df1[\"name\"]:\n",
    "#         df1.loc[i] = row\n",
    "# #         df1.append(df.iloc[i])\n",
    "# #         print(\"Not in!\")\n",
    "# #     else:\n",
    "# #         print(\"Hi\")\n",
    "        \n",
    "# for i in np.arange(0,len(df)):\n",
    "#     if df[\"name\"][i] not in df1[\"name\"]:\n",
    "#         print(df[\"name\"][i])\n",
    "#         df1.loc[i] = df.iloc[i]\n",
    "#     else:\n",
    "#         print(\"Name Exists\")\n",
    "# df1\n"
   ]
  },
  {
   "cell_type": "code",
   "execution_count": null,
   "metadata": {},
   "outputs": [],
   "source": []
  }
 ],
 "metadata": {
  "kernelspec": {
   "display_name": "Python 3",
   "language": "python",
   "name": "python3"
  },
  "language_info": {
   "codemirror_mode": {
    "name": "ipython",
    "version": 3
   },
   "file_extension": ".py",
   "mimetype": "text/x-python",
   "name": "python",
   "nbconvert_exporter": "python",
   "pygments_lexer": "ipython3",
   "version": "3.6.10"
  }
 },
 "nbformat": 4,
 "nbformat_minor": 2
}
