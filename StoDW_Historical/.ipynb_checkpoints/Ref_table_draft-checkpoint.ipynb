{
 "cells": [
  {
   "cell_type": "code",
   "execution_count": null,
   "metadata": {
    "scrolled": true
   },
   "outputs": [],
   "source": [
    "import pandas as pd\n",
    "import numpy as np\n",
    "import psycopg2\n",
    "import time"
   ]
  },
  {
   "cell_type": "code",
   "execution_count": null,
   "metadata": {
    "scrolled": true
   },
   "outputs": [],
   "source": [
    "#Psycopg2 Connections\n",
    "#PostgreSQL Connection\n",
    "try:\n",
    "    pg_db = psycopg2.connect(host=\"165.22.220.96\",user=\"praveen\",password=\"Admin123\",database=\"staging\")\n",
    "    pg_db.autocommit = True\n",
    "    pgcursor = pg_db.cursor()\n",
    "    print(\"PostgreSQL Connection Established\")\n",
    "except psycopg2.OperationalError as e:\n",
    "    print(\"Unable to Connect: \",format(e))\n",
    "\n",
    "# PostgreSQL Connection 1\n",
    "try:\n",
    "    pg_db1 = psycopg2.connect(host=\"165.22.220.96\",user=\"praveen\",password=\"Admin123\",database=\"staging\")\n",
    "    pg_db1.autocommit = True\n",
    "    pgcursor1 = pg_db1.cursor()\n",
    "    print(\"PostgreSQL Connection Established\")\n",
    "except psycopg2.OperationalError as e:\n",
    "    print(\"Unable to Connect: \",format(e))\n",
    "    \n",
    "#PostgreSQL Connection 2\n",
    "try:\n",
    "    pg_db2 = psycopg2.connect(host=\"165.22.220.96\",user=\"praveen\",password=\"Admin123\",database=\"staging\")\n",
    "    pg_db2.autocommit = True\n",
    "    pgcursor2 = pg_db2.cursor()\n",
    "    print(\"PostgreSQL Connection Established\")\n",
    "except psycopg2.OperationalError as e:\n",
    "    print(\"Unable to Connect: \",format(e))\n",
    "    \n",
    "#PostgreSQL Connection 3\n",
    "try:\n",
    "    pg_db3 = psycopg2.connect(host=\"165.22.220.96\",user=\"praveen\",password=\"Admin123\",database=\"staging\")\n",
    "    pg_db3.autocommit = True\n",
    "    pgcursor3 = pg_db3.cursor()\n",
    "    print(\"PostgreSQL Connection Established\")\n",
    "except psycopg2.OperationalError as e:\n",
    "    print(\"Unable to Connect: \",format(e))"
   ]
  },
  {
   "cell_type": "code",
   "execution_count": null,
   "metadata": {
    "scrolled": true
   },
   "outputs": [],
   "source": [
    "slt_cmd_mc = \"select master_customer_id,email_address from master_customer_test\"\n",
    "\n",
    "slt_cmd_source = \"select source_id,source_table from dw_source_dim\"\n",
    "\n",
    "\n",
    "def function(master_customer_id,source):\n",
    "    slt_cmd_ref= f'select * from dw_ref_source_dim where master_customer_id = {master_customer_id} and source_id = {source}'\n",
    "    print(slt_cmd_ref)\n",
    "    pgcursor2.execute(slt_cmd_ref)\n",
    "    for i in pgcursor2:\n",
    "        print(i)\n",
    "        print(type(i))\n",
    "        if i is null:\n",
    "            insrt_cmd = f'insert into dw_ref_source_dim (master_customer_id, source_id)\\\n",
    "                values ({master_customer_id},{source}'\n",
    "            pgcursor3.execute(insrt_cmd)\n",
    "        else:\n",
    "            print('Record already exists in ref_source table')\n",
    "\n",
    "pgcursor.execute(slt_cmd_mc)\n",
    "for x in pgcursor:\n",
    "    print(x)\n",
    "    pgcursor1.execute(slt_cmd_source)\n",
    "    for source_id,source_table in pgcursor1: \n",
    "        print(source_id)\n",
    "        function(x[0],source_id)\n",
    "    break\n",
    "    \n",
    "\n",
    "    \n",
    "pg_db.close()\n",
    "pg_db1.close() \n",
    "pg_db2.close()\n",
    "pg_db3.close() "
   ]
  },
  {
   "cell_type": "code",
   "execution_count": null,
   "metadata": {
    "scrolled": true
   },
   "outputs": [],
   "source": [
    "y = get mc_id, email from mc_test\n",
    "for x in y:\n",
    "    abc = get source_id,source_name from source table\n",
    "    for source_id,source_name in abc:\n",
    "        function (mc, source_id)"
   ]
  },
  {
   "cell_type": "code",
   "execution_count": null,
   "metadata": {
    "scrolled": true
   },
   "outputs": [],
   "source": [
    "def function (mc, source):\n",
    "    select * from ref table\n",
    "    where mc_id = mc and source_id = source\n",
    "    \n",
    "    if null do insert\n",
    "    if not null ignore\n",
    "    "
   ]
  },
  {
   "cell_type": "code",
   "execution_count": null,
   "metadata": {
    "scrolled": true
   },
   "outputs": [],
   "source": []
  },
  {
   "cell_type": "code",
   "execution_count": null,
   "metadata": {
    "scrolled": true
   },
   "outputs": [],
   "source": [
    "slt_cmd = \"SELECT master_customer_id, email_address FROM master_customer_test\"\n",
    "pgcursor.execute(slt_cmd)\n",
    "\n",
    "for i in pgcursor:\n",
    "#         -------establish all pgcursors connecting to each individual source table-----------------------------\n",
    "#     print(\"SELECT email_address from stg_crm_customer where email_address = '\"+i[1]+\"'\")\n",
    "    pgcursor1.execute(\"SELECT email_address from stg_crm_customer where email_address = '\"+i[1]+\"'\")\n",
    "    pgcursor3.execute(\"SELECT email_address from stg_blc_customer where email_address = '\"+i[1]+\"'\")\n",
    "    pgcursor4.execute(\"SELECT email from stg_bpm_client_info where email = '\"+i[1]+\"'\")\n",
    "#         ------------------------------------------------------------------------------------------------------\n",
    "    for x in pgcursor1:\n",
    "        if i[1] == x[0]:\n",
    "#             print(\"True-pg1\")\n",
    "#             print(\"INSERT INTO dw_ref_source_dim (master_customer_id, source_id) values (\"+str(i[0])+\", 3)\")\n",
    "            pgcursor2.execute(\"INSERT INTO dw_ref_source_dim (master_customer_id,source_id,created_date, updated_date) values (\"+str(i[0])+\", 3,current_timestamp,current_timestamp)\")\n",
    "        break\n",
    "    for y in pgcursor3:\n",
    "        if i[1] == y[0]:\n",
    "#             print(\"True-pg3\")\n",
    "            pgcursor2.execute(\"INSERT INTO dw_ref_source_dim (master_customer_id, source_id,created_date, updated_date) values (\"+str(i[0])+\", 1,current_timestamp,current_timestamp)\")\n",
    "        break\n",
    "    for z in pgcursor4:\n",
    "        if i[1] == z[0]:\n",
    "#             print(\"True-pg4\")\n",
    "            pgcursor2.execute(\"INSERT INTO dw_ref_source_dim (master_customer_id, source_id,created_date, updated_date) values (\"+str(i[0])+\", 2,current_timestamp,current_timestamp)\")\n",
    "        break        "
   ]
  },
  {
   "cell_type": "code",
   "execution_count": null,
   "metadata": {
    "scrolled": true
   },
   "outputs": [],
   "source": []
  },
  {
   "cell_type": "code",
   "execution_count": null,
   "metadata": {
    "scrolled": true
   },
   "outputs": [],
   "source": []
  }
 ],
 "metadata": {
  "kernelspec": {
   "display_name": "Python 3",
   "language": "python",
   "name": "python3"
  },
  "language_info": {
   "codemirror_mode": {
    "name": "ipython",
    "version": 3
   },
   "file_extension": ".py",
   "mimetype": "text/x-python",
   "name": "python",
   "nbconvert_exporter": "python",
   "pygments_lexer": "ipython3",
   "version": "3.6.10"
  }
 },
 "nbformat": 4,
 "nbformat_minor": 2
}
