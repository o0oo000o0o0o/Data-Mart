{
 "cells": [
  {
   "cell_type": "code",
   "execution_count": null,
   "metadata": {},
   "outputs": [],
   "source": [
    "import mysql.connector\n",
    "import psycopg2\n",
    "import pandas as pd\n",
    "import time"
   ]
  },
  {
   "cell_type": "code",
   "execution_count": null,
   "metadata": {},
   "outputs": [],
   "source": [
    "start_time = time.time()"
   ]
  },
  {
   "cell_type": "code",
   "execution_count": null,
   "metadata": {
    "scrolled": false
   },
   "outputs": [],
   "source": [
    "### Establishing MySQL and PostgreSQL Connections\n",
    "\n",
    "#PostgreSQL Connection\n",
    "try:\n",
    "    pg_db = psycopg2.connect(host=\"165.22.220.96\",user=\"praveen\",password=\"Admin123\",database=\"staging\")\n",
    "    pg_db.autocommit = True\n",
    "    pgcursor = pg_db.cursor()\n",
    "    print(\"PostgreSQL Connection Established\")\n",
    "except psycopg2.OperationalError as e:\n",
    "    print(\"Unable to Connect: \",format(e))\n",
    "\n",
    "#PostgreSQL Connection 1\n",
    "try:\n",
    "    pg_db1 = psycopg2.connect(host=\"165.22.220.96\",user=\"praveen\",password=\"Admin123\",database=\"staging\")\n",
    "    pg_db1.autocommit = True\n",
    "    pgcursor1 = pg_db1.cursor()\n",
    "    print(\"PostgreSQL Connection Established\")\n",
    "except psycopg2.OperationalError as e:\n",
    "    print(\"Unable to Connect: \",format(e))\n",
    "\n",
    "#PostgreSQL Connection 2\n",
    "try:\n",
    "    pg_db2 = psycopg2.connect(host=\"165.22.220.96\",user=\"praveen\",password=\"Admin123\",database=\"staging\")\n",
    "    pg_db2.autocommit = True\n",
    "    pgcursor2 = pg_db2.cursor()\n",
    "    print(\"PostgreSQL Connection Established\")\n",
    "except psycopg2.OperationalError as e:\n",
    "    print(\"Unable to Connect: \",format(e))\n",
    "    \n"
   ]
  },
  {
   "cell_type": "code",
   "execution_count": null,
   "metadata": {},
   "outputs": [],
   "source": [
    "count_success = 0\n",
    "Total_Records_from_source = 0\n",
    "count_failed_emails = 0\n",
    "\n",
    "pgcursor.execute(\"\"\"select C.customer_id, C.publisher_name from dw_sales_fact AS S, stg_blc_customer AS C \n",
    "                WHERE S.CUSTOMER_ID = C.CUSTOMER_ID\"\"\")\n",
    "for customer in pgcursor:\n",
    "    try:\n",
    "        if customer[1] is None:\n",
    "            pass\n",
    "        else:\n",
    "            pgcursor1.execute(\"select company_name_id from dw_company_name_dim \\\n",
    "                        WHERE company_name = '\"+ str(customer[1].replace(\"'\", \"''\"))+\"'\")\n",
    "            for cn in pgcursor1: \n",
    "                pgcursor2.execute(\"update dw_sales_fact \\\n",
    "                                 set company_name_id = \"+ str(cn[0])+ \" where customer_id = \"+str(customer[0]))\n",
    "    except Exception as e:\n",
    "        count_failed_emails += 1\n",
    "        \n",
    "insrt_log = \"INSERT INTO LOG_DIM (Phase, Source_Table_Name, Target_Table_Name, Total_Records_Source_Table,Total_Records_Target_Table, Status, Remarks, Execution_time) Values ('StoDW','dw_company_name_dim','dw_sales_fact',\" +str(Total_Records_from_source)+\", \"+str(count_success)+\",'Completed','\" +str(count_failed_emails)+\" Failed','\"+str(round(time.time() - start_time,2))+\" seconds')\"\n",
    "pgcursor.execute(insrt_log)\n",
    "    "
   ]
  },
  {
   "cell_type": "code",
   "execution_count": null,
   "metadata": {},
   "outputs": [],
   "source": [
    "pg_db.close()\n",
    "pg_db1.close()\n",
    "pg_db2.close()"
   ]
  },
  {
   "cell_type": "code",
   "execution_count": null,
   "metadata": {},
   "outputs": [],
   "source": []
  }
 ],
 "metadata": {
  "kernelspec": {
   "display_name": "Python 3",
   "language": "python",
   "name": "python3"
  },
  "language_info": {
   "codemirror_mode": {
    "name": "ipython",
    "version": 3
   },
   "file_extension": ".py",
   "mimetype": "text/x-python",
   "name": "python",
   "nbconvert_exporter": "python",
   "pygments_lexer": "ipython3",
   "version": "3.6.10"
  }
 },
 "nbformat": 4,
 "nbformat_minor": 2
}
