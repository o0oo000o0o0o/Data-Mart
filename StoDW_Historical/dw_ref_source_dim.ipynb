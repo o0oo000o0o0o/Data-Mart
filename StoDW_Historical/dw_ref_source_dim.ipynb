{
 "cells": [
  {
   "cell_type": "code",
   "execution_count": 1,
   "metadata": {},
   "outputs": [],
   "source": [
    "import psycopg2\n",
    "import time\n",
    "import numpy as np\n",
    "from config import host, user, user1, password, password1"
   ]
  },
  {
   "cell_type": "code",
   "execution_count": 2,
   "metadata": {},
   "outputs": [],
   "source": [
    "start_time = time.time()"
   ]
  },
  {
   "cell_type": "code",
   "execution_count": 3,
   "metadata": {
    "scrolled": true
   },
   "outputs": [
    {
     "name": "stdout",
     "output_type": "stream",
     "text": [
      "PostgreSQL Connection Established\n",
      "PostgreSQL Connection Established\n",
      "PostgreSQL Connection Established\n",
      "PostgreSQL Connection Established\n",
      "PostgreSQL Connection Established\n"
     ]
    }
   ],
   "source": [
    "#Psycopg2 Connections\n",
    "#PostgreSQL Connection\n",
    "try:\n",
    "    pg_db = psycopg2.connect(host=host,user=user1,password=password1,database=\"staging\")\n",
    "    pg_db.autocommit = True\n",
    "    pgcursor = pg_db.cursor()\n",
    "    print(\"PostgreSQL Connection Established\")\n",
    "except psycopg2.OperationalError as e:\n",
    "    print(\"Unable to Connect: \",format(e))\n",
    "\n",
    "# PostgreSQL Connection 1\n",
    "try:\n",
    "    pg_db1 = psycopg2.connect(host=host,user=user1,password=password1,database=\"staging\")\n",
    "    pg_db1.autocommit = True\n",
    "    pgcursor1 = pg_db1.cursor()\n",
    "    print(\"PostgreSQL Connection Established\")\n",
    "except psycopg2.OperationalError as e:\n",
    "    print(\"Unable to Connect: \",format(e))\n",
    "    \n",
    "#PostgreSQL Connection 2\n",
    "try:\n",
    "    pg_db2 = psycopg2.connect(host=host,user=user1,password=password1,database=\"staging\")\n",
    "    pg_db2.autocommit = True\n",
    "    pgcursor2 = pg_db2.cursor()\n",
    "    print(\"PostgreSQL Connection Established\")\n",
    "except psycopg2.OperationalError as e:\n",
    "    print(\"Unable to Connect: \",format(e))\n",
    "    \n",
    "#PostgreSQL Connection 3\n",
    "try:\n",
    "    pg_db3 = psycopg2.connect(host=host,user=user1,password=password1,database=\"staging\")\n",
    "    pg_db3.autocommit = True\n",
    "    pgcursor3 = pg_db3.cursor()\n",
    "    print(\"PostgreSQL Connection Established\")\n",
    "except psycopg2.OperationalError as e:\n",
    "    print(\"Unable to Connect: \",format(e))\n",
    "\n",
    "#PostgreSQL Connection 4\n",
    "try:\n",
    "    pg_db4 = psycopg2.connect(host=host,user=user1,password=password1,database=\"staging\")\n",
    "    pg_db4.autocommit = True\n",
    "    pgcursor4 = pg_db4.cursor()\n",
    "    print(\"PostgreSQL Connection Established\")\n",
    "except psycopg2.OperationalError as e:\n",
    "    print(\"Unable to Connect: \",format(e))"
   ]
  },
  {
   "cell_type": "code",
   "execution_count": null,
   "metadata": {},
   "outputs": [],
   "source": [
    "count_success = 0\n",
    "Total_Records_from_source = 0\n",
    "count_failed_emails = 0\n",
    "\n",
    "slt_cmd = \"SELECT master_customer_id, email_address FROM master_customer_test\"\n",
    "pgcursor.execute(slt_cmd)\n",
    "\n",
    "for i in pgcursor:\n",
    "    try:\n",
    "        Total_Records_from_source = pgcursor.rowcount\n",
    "    #         -------establish all pgcursors connecting to each individual source table-----------------------------\n",
    "    #     print(\"SELECT email_address from stg_crm_customer where email_address = '\"+i[1]+\"'\")\n",
    "        pgcursor1.execute(\"SELECT email_address from stg_crm_customer where email_address = '\"+i[1]+\"'\")\n",
    "        pgcursor3.execute(\"SELECT email_address from stg_blc_customer where email_address = '\"+i[1]+\"'\")\n",
    "        pgcursor4.execute(\"SELECT email from stg_bpm_client_info where email = '\"+i[1]+\"'\")\n",
    "    #         ------------------------------------------------------------------------------------------------------\n",
    "        for x in pgcursor1:\n",
    "            if i[1] == x[0]:\n",
    "    #             print(\"True-pg1\")\n",
    "    #             print(\"INSERT INTO dw_ref_source_dim (master_customer_id, source_id) values (\"+str(i[0])+\", 3)\")\n",
    "                pgcursor2.execute(\"INSERT INTO dw_ref_source_dim (master_customer_id,source_id,created_date, updated_date) values (\"+str(i[0])+\", 3,current_timestamp,current_timestamp)\")\n",
    "            break\n",
    "        for y in pgcursor3:\n",
    "            if i[1] == y[0]:\n",
    "    #             print(\"True-pg3\")\n",
    "                pgcursor2.execute(\"INSERT INTO dw_ref_source_dim (master_customer_id, source_id,created_date, updated_date) values (\"+str(i[0])+\", 1,current_timestamp,current_timestamp)\")\n",
    "            break\n",
    "        for z in pgcursor4:\n",
    "            if i[1] == z[0]:\n",
    "    #             print(\"True-pg4\")\n",
    "                pgcursor2.execute(\"INSERT INTO dw_ref_source_dim (master_customer_id, source_id,created_date, updated_date) values (\"+str(i[0])+\", 2,current_timestamp,current_timestamp)\")\n",
    "            break  \n",
    "\n",
    "        count_success += 1\n",
    "    \n",
    "    except Exception as e:\n",
    "        count_failed_emails += 1\n",
    "    \n",
    "insrt_log = \"INSERT INTO LOG_DIM (Phase, Source_Table_Name, Target_Table_Name, Total_Records_Source_Table,Total_Records_Target_Table, Status, Remarks, Execution_time) Values ('StoDW','None','dw_ref_source_dim',\" +str(Total_Records_from_source)+\", \"+str(count_success)+\",'Completed','\" +str(count_failed_emails)+\" Failed','\"+str(round(time.time() - start_time,2))+\" seconds')\"\n",
    "pgcursor.execute(insrt_log)"
   ]
  },
  {
   "cell_type": "code",
   "execution_count": null,
   "metadata": {},
   "outputs": [],
   "source": [
    "pg_db.close()\n",
    "pg_db1.close()\n",
    "pg_db2.close()\n",
    "pg_db3.close()\n",
    "pg_db4.close()"
   ]
  }
 ],
 "metadata": {
  "kernelspec": {
   "display_name": "Python 3",
   "language": "python",
   "name": "python3"
  },
  "language_info": {
   "codemirror_mode": {
    "name": "ipython",
    "version": 3
   },
   "file_extension": ".py",
   "mimetype": "text/x-python",
   "name": "python",
   "nbconvert_exporter": "python",
   "pygments_lexer": "ipython3",
   "version": "3.6.10"
  }
 },
 "nbformat": 4,
 "nbformat_minor": 2
}
